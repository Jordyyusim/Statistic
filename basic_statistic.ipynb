{
 "cells": [
  {
   "cell_type": "markdown",
   "metadata": {},
   "source": [
    "## BASIC STATISTIC\n",
    "<hr>\n",
    "<hr>"
   ]
  },
  {
   "cell_type": "markdown",
   "metadata": {},
   "source": [
    "example: Mr. X ingin mengetahui berapa rata2 massa(kg) dari Gajah Sumatera sehingga Mr.X melakukan research terhadap 30 ekor Gajah Sumatera.\n",
    "\n",
    "- __Population__ : Semua spesies Gajah Sumatera\n",
    "\n",
    "- __Parameter__  : Rata-rata semua spesies Gajah Sumatera (Population) $\\alpha$ , $\\sigma$ , $\\theta$\n",
    "\n",
    "- __Sample__     : 30 ekor Gajah Sumatera\n",
    "\n",
    "- __Statistic__  : Rata-rata massa dari 30 ekor Gajah Sumatera (Sample) $\\bar{x}$, $s$\n",
    "                   \n",
    "- __Variable__   : Massa dari seekor Gajah Sumatera dari elemen Sample\n",
    "      \n",
    "- __Data__       : Massa aktual dari seekor Gajah Sumatera\n",
    "\n",
    "<hr>"
   ]
  },
  {
   "cell_type": "markdown",
   "metadata": {},
   "source": [
    "- __Frequency__ : how often a value occurs\n",
    "\n",
    "    - __Relative Freq__ : freq / total data\n",
    "    \n",
    "    - __Cummulative Relative Freq__\n",
    "    \n",
    "<hr>"
   ]
  },
  {
   "cell_type": "markdown",
   "metadata": {},
   "source": [
    "\n",
    "example : [1,2,2,2]\n",
    "#### Frequency Table\n",
    "value|freq|relative freq|cummulative rel freq|\n",
    "---|---|---|---\n",
    "1 | 1 | $\\displaystyle \\frac {1} {4} = 0.25$ | 0.25\n",
    "2 | 3 | $\\displaystyle \\frac {3} {4} = 0.75$ | 1.00\n",
    "\n",
    "<hr>"
   ]
  },
  {
   "cell_type": "markdown",
   "metadata": {},
   "source": [
    "### Darimana data berasal??"
   ]
  },
  {
   "cell_type": "markdown",
   "metadata": {},
   "source": [
    "- __Measurements__ :\n",
    "    - __Nominal__ : categorical (color, gender, yes/no pollings)\n",
    "    - __Ordinal__ : order/ranking/rating (ex: top 5 video terbaik 2020)\n",
    "    - __Ratio__ : score test, jumlah anak\n",
    "    - __Interval__ : space between numbers (range matters), temperatures. ex: Premier League Table\n",
    "     \n",
    "Rank|Players|Points\n",
    "---|---|---\n",
    "1|Chelsea|100\n",
    "2|Man. City|90\n",
    "3|Liverpool|80\n",
    "\n",
    "<hr>"
   ]
  },
  {
   "cell_type": "markdown",
   "metadata": {},
   "source": [
    "### COLLECTING DATAS\n",
    "\n",
    "- __Sampling__ : how we collect data. must represents the whole data\n",
    "   - __Random__ :\n",
    "       - Simple Random Sampling: asal aja\n",
    "       - Stratified Random Sampling: random sampling dari data yang sudah di grouping\n",
    "           strata golongan darah kampus A: A,B,O,AB dengan total siswa 1 jt\n",
    "           20% goldar A, 30% goldar B, 40% goldar O, 10% goldar AB.\n",
    "           sample dari 200 org = 40 org A, 60 org B, 80 org O dan 20 org AB\n",
    "       - Cluster Random Sampling:\n",
    "           Tribun A,B,C,D,E. ambil sample di Tribun A & C\n",
    "       - Systematic Random Sampling:\n",
    "            data dgn id kelipatan 5\n",
    "            data dgn id genap\n",
    "   - __Non Random__:\n",
    "       - Convience Method : mutuals, people nearby\n",
    "       - Voluntary : For volunteers only\n",
    "\n",
    "- __Census__ : Surveys to every element in populations\n",
    "    - Takes time, energy, cost\n",
    "    - Non-Respone Respondent : Responden tidak mau ikut survey\n",
    "    - Under Coverage Respondent : Responden sulit dijangkau krn lokasi, dll"
   ]
  },
  {
   "cell_type": "markdown",
   "metadata": {},
   "source": [
    "<hr>\n",
    "\n",
    "### DATA TYPES\n",
    "\n",
    "- __Qualitative :__ categories\n",
    "- __Quantitative :__ measured (diukur) dan counted (dihitung)\n",
    "    - Discrete: countable (no decimal) = number of cars\n",
    "    - Continuous: measured = weight, height, distances\n",
    "\n",
    "<hr>"
   ]
  },
  {
   "cell_type": "markdown",
   "metadata": {},
   "source": [
    "### SUMMARIZING DATAS\n",
    "### 1.Numerically  => __center & spread out__"
   ]
  },
  {
   "cell_type": "markdown",
   "metadata": {},
   "source": [
    "#### __A.  Measure of Center__\n",
    "   - __MEAN__ : average of population $\\mu$, avg of sample $\\bar{x}$\n",
    "        - __Without Freq__\n",
    "            $$ \\displaystyle \\bar{x} = \\frac {\\sum{x}} {n} $$\n",
    "    \n",
    "        - __With Freq__\n",
    "            $$ \\displaystyle \\bar{x} = \\frac {\\sum{xf}} {n} $$\n",
    "            \n",
    "   - __MEDIAN__ \n",
    "    \n",
    "   - __MODE__ \n",
    " \n",
    "\n",
    "_example_: \n",
    "##### sample = 1,3,3,4,4,4,5,5. mean?\n",
    "\n",
    "$\\displaystyle \\bar{x} = \\frac {sum {x}} {n} = \\frac {1+3+3+4+4+4+5+5} {8} = \\frac{29} {8}$\n",
    "\n",
    "\n",
    "#### __B.  Spread Out__\n",
    "__5, 5, 5, 5, 5, 5, 5__ mean=5 median=5, no spread\n",
    "\n",
    "__1, 1, 1, 5, 9, 9, 9__ mean=5 median=5, weighted on both side\n",
    "\n",
    "__1, 2, 4, 5, 6, 8, 9__ mean=5 median=5, spread out\n",
    "\n",
    "   - __RANGE__ : max val - min val\n",
    "   \n",
    "   - __IQR (Intequartile Range)__ : $Q_{3} - Q_{1}$\n",
    "   \n",
    "   - __Standart Deviation__ : average distance from its mean, populasi $\\sigma$, sample $s$\n",
    "   \n",
    "       $\\displaystyle std = \\sqrt {\\frac {\\sum{{x - \\bar{x}}} ^ 2} {n -1}}$\n",
    "   - __Variance__ : square of Standar Deviation. To remove negative value\n",
    "   - __Z-score__ : number of std. how far is a data point from mean, measured with standart deviation unit. menentukan jarak dr mean. membentuk standart normal distribution. menentukan outlier.\n",
    "   \n",
    "       $\\displaystyle z = \\frac {x - \\bar{x}} {s}$ _and_  $\\displaystyle x = \\bar{x} + zs$\n",
    "       \n",
    "       _example_:\n",
    "       1,3,3,4,4,4,5,5 seberapa jauh (std unit) elemen ke-0 dari meannya?\n",
    "       mean = 3.625. std = 1.3\n",
    "       \n",
    "       $\\displaystyle z = \\frac {x - \\bar{x}} {s} = \\frac {1 - 3.625} {1.3} = -1.788$\n",
    "        \n",
    "        siapa yang ada sejauh 2.5 std dan -2.5 std atau disebut juga outlier dari mean?\n",
    "        \n",
    "        $\\displaystyle x_{lower} = \\bar{x} + zs = 3.625 - {2.5 \\cdot 1.3}$ = __0.375__\n",
    "        \n",
    "        $\\displaystyle x_{higher} = \\bar{x} + zs = 3.625 + {2.5 \\cdot 1.3}$ = __6.875__\n",
    "    "
   ]
  },
  {
   "cell_type": "code",
   "execution_count": 4,
   "metadata": {},
   "outputs": [
    {
     "data": {
      "text/plain": [
       "0    11\n",
       "1    13\n",
       "2    14\n",
       "3    14\n",
       "dtype: int64"
      ]
     },
     "execution_count": 4,
     "metadata": {},
     "output_type": "execute_result"
    }
   ],
   "source": [
    "import numpy as np\n",
    "import pandas as pd\n",
    "\n",
    "x = [11,13,14,14]\n",
    "# print(np.std(x, ddof=1)) #ddof = degree of freedom. di numpy ddof defaultnya 0, jadi rumusnya hanya dibagi n\n",
    "\n",
    "x = pd.Series(x)\n",
    "# print(x.std())\n",
    "x"
   ]
  },
  {
   "cell_type": "markdown",
   "metadata": {},
   "source": [
    "### OUTLIERS\n",
    "\n",
    "#### CARA MENENTUKAN OUTLIERS\n",
    "\n",
    "1. __IQR METHOD__\n",
    "    - low outlier = values < $Q_{1} - 1.5 \\cdot$ IQR\n",
    "    - high outlier = values > $Q_{3} + 1.5 \\cdot$ IQR\n",
    "    \n",
    "    _example_: __-20,2,3,5,6,7,14__\n",
    "    \n",
    "    Q1 = 2\n",
    "    \n",
    "    Q3 = 7\n",
    "    \n",
    "    IQR = 7 - 2 = 5\n",
    "    \n",
    "    low outlier = Q1 - 1.5 IQR = 2 - 1.5(5) = -5.5\n",
    "    \n",
    "    high outlier = Q3 + 1.5 IQR = 7 + 1.5(5) = 14.5\n",
    "    \n",
    "    jadi outliernya adalah -20\n",
    "    \n",
    "2. __Z-score__\n",
    "    - low outlier = values < $\\bar{x} - 2 \\cdot std$\n",
    "    \n",
    "    - high outlier = values > $\\bar{x} + 2 \\cdot std$\n",
    "    \n",
    "    _example_: __-20,2,3,5,6,7,14__\n",
    "    \n",
    "    mean = 2.43\n",
    "    \n",
    "    std = 10.6 \n",
    "    \n",
    "    low outlier = 2.43 - 2(10.6) = -18.5\n",
    "    \n",
    "    high outlier = 2.43 + 2(10.6) = 23.5"
   ]
  },
  {
   "cell_type": "markdown",
   "metadata": {},
   "source": [
    "data suhu jkt = [37, 35, 34, 40, 2, 38, 37]\n",
    "setelah disort = 2, 34, 35, 37, 37, 38, 40\n",
    "Q1 = 34\n",
    "Q2 = 47\n",
    "Q3 = 38\n",
    "IQR = Q3 - Q1\n",
    "high outlier = Q3 + 1.5 * IQR = 42\n",
    "low outlier = Q1 - 1.5 * IQR = 28"
   ]
  },
  {
   "cell_type": "code",
   "execution_count": 7,
   "metadata": {},
   "outputs": [
    {
     "name": "stdout",
     "output_type": "stream",
     "text": [
      "[37 35 34 40 38 37]\n"
     ]
    }
   ],
   "source": [
    "# Apa efek outlier jika tdk diperhatikan\n",
    "suhu = np.array([37, 35,34, 40, 2, 38, 37])\n",
    "suhu_outlier = np.array(list(filter(lambda x: x < 42 and x > 28.8, suhu)))\n",
    "print(suhu_outlier)\n",
    "# print(suhu_outlier.mean())"
   ]
  },
  {
   "cell_type": "markdown",
   "metadata": {},
   "source": [
    "### SUMMARIZING DATA\n",
    "### 2. VISUALLY => __histogram & boxplot__"
   ]
  },
  {
   "cell_type": "code",
   "execution_count": null,
   "metadata": {},
   "outputs": [],
   "source": []
  }
 ],
 "metadata": {
  "kernelspec": {
   "display_name": "Python 3",
   "language": "python",
   "name": "python3"
  },
  "language_info": {
   "codemirror_mode": {
    "name": "ipython",
    "version": 3
   },
   "file_extension": ".py",
   "mimetype": "text/x-python",
   "name": "python",
   "nbconvert_exporter": "python",
   "pygments_lexer": "ipython3",
   "version": "3.8.1"
  }
 },
 "nbformat": 4,
 "nbformat_minor": 4
}
