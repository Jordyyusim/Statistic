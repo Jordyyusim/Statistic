{
 "cells": [
  {
   "cell_type": "code",
   "execution_count": null,
   "metadata": {},
   "outputs": [],
   "source": [
    "import numpy as np\n",
    "import pandas as pd\n",
    "import matplotlib.pyplot as plt"
   ]
  },
  {
   "cell_type": "markdown",
   "metadata": {},
   "source": [
    "# __PROBABILITY__\n",
    "<HR>\n",
    "<HR>"
   ]
  },
  {
   "cell_type": "markdown",
   "metadata": {},
   "source": [
    "- __Sample Space__ : all possible outcome (flip coin: garuda/angka)\n",
    "- __Outcome__ : result of an experiment (flip coin: angka)\n",
    "- __Probability__ : chance that an event will occur (0-1)\n",
    "    - __Theoritical Probability__:\n",
    "        $$P(\\textrm{event}) = \\frac {\\textrm{jumlah outcome}} {\\textrm{jumlah sample space}}$$\n",
    "     \n",
    "    - __Empirical Probability__:\n",
    "    \n",
    "        flip coin 500x. 257 garuda. prob keluar garuda?\n",
    "        $$P(\\textrm{garuda}) = \\frac {\\textrm{outcome garuda}} {\\textrm{total trial}} = \\frac {257} {500} \n",
    "        = 0.514$$\n",
    "        \n",
    "        __Law of Large Number__ : semakin banyak trial nilai empirical mendekati nilai theoritical"
   ]
  },
  {
   "cell_type": "markdown",
   "metadata": {},
   "source": [
    "## Probability Formulas\n",
    "<hr>\n",
    "\n",
    "- Conditional Probability $P(\\textrm{A|B})$\n",
    "\n",
    "    $$P(B|A) = \\frac {P(A \\cap B)} {P(A)}$$\n",
    "       \n",
    "- AND Probability $P(\\textrm{A and B}) = P(A \\cap B)$\n",
    "\n",
    "    $$P(A \\cap B) = {P(A)} \\cdot P(B|A)$$\n",
    "        \n",
    "- OR Probability $P(\\textrm{A|B}) = P(A \\cup B)$\n",
    "\n",
    "    $$P(A \\cup B) = {P(A)} + {P(B)} - P(A \\cap B)$$"
   ]
  },
  {
   "cell_type": "markdown",
   "metadata": {},
   "source": [
    "### _Example_ :"
   ]
  },
  {
   "cell_type": "markdown",
   "metadata": {},
   "source": [
    "Three Blue Cards = 1,2,3\n",
    "Two Yellow Card = 1,2\n",
    "- $P(Blue) = \\frac {3} {5}$\n",
    "- $P(Yellow) = \\frac {2} {5}$\n",
    "- $P(Even) = \\frac{2} {5}$\n",
    "- $P(Odds) = \\frac{3} {5}$\n",
    "\n",
    "- $P(Blue | Even) = \\frac {P(Blue and Even)} {P(Even)} = \\frac {1/5} {2/5}$ = 0.5\n",
    "\n",
    "- $P(Blue or Even) = P(Blue) + P(Yellow) - P(Blue \\cap Even) = \\frac {3} {5} + \\frac {2} {5} - \\frac {1} {5}$ = 0.8\n",
    "\n",
    "- probability 2x draws all blue\n",
    "\n",
    "    $P(Blue1 and Blue2) = P(Blue1) \\cdot P(Blue2) = \\frac {3} {5} \\cdot \\frac {2} {4}$ = 0.3"
   ]
  },
  {
   "cell_type": "markdown",
   "metadata": {},
   "source": [
    "### Independent Events, characteristics are :\n",
    "\n",
    "#### $$P(A|B) == P(A)$$\n",
    "\n",
    "#### $$P(B|A) == P(B)$$\n",
    "\n",
    "#### $$P(A and B) == P(A) \\cdot P(B)$$"
   ]
  },
  {
   "cell_type": "markdown",
   "metadata": {},
   "source": [
    "20% kidal\n",
    "5% nilai A\n",
    "1% kidal dan nilai A\n",
    "P(kidal) = 0.2\n",
    "P(nilai A) = 0.05\n",
    "P(kidal dan nilai A) = 0.01\n",
    "\n",
    "P(kidal dan nilai A) = P(kidal) . P(nilai A)\n",
    "                     = 0.2 . 0.05\n",
    "                     = 0.01"
   ]
  },
  {
   "cell_type": "markdown",
   "metadata": {},
   "source": [
    "### Mutually Exclusive : kedua event tdk bisa bersamaan cth kemungkinan lempar dadu keluar 2 angka\n",
    "\n",
    "#### $$P(A and B) == 0 $$"
   ]
  },
  {
   "cell_type": "markdown",
   "metadata": {},
   "source": [
    "Roll a dice one times\n",
    "A = angka ganjil < 4 = [1,3]\n",
    "B = angka > 3 = [4,5,6]\n",
    "\n",
    "P(A&B) = P(A) . P(B|A)\n",
    "       = (2/6) . 0\n",
    "       = 0 "
   ]
  },
  {
   "cell_type": "code",
   "execution_count": null,
   "metadata": {},
   "outputs": [],
   "source": []
  },
  {
   "cell_type": "markdown",
   "metadata": {},
   "source": [
    "### __Contingency Table__\n",
    ".|nilai A|nilai B|nilai C|Totals\n",
    "---|---|---|---|---\n",
    "kidal|82|39|18|139\n",
    "non-kidal|17|27|61|105\n",
    "Totals|99|66|79|244"
   ]
  },
  {
   "cell_type": "markdown",
   "metadata": {},
   "source": [
    "P(kidal) = Total kidal / Total data = 139/244 = 0.57\n",
    "P(non-kidal) = Total non-kidal / Total data = 105/244\n",
    "P(nilai A) = 99/244\n",
    "P(nilai B) = 66/244\n",
    "P(nilai C) = 79/244\n",
    "\n",
    "P(kidal and A) = 82 / 244\n",
    "P(kidal or A) = (99 + 139 - 82) / 244\n",
    "P(kidal|A) = 82 / 99"
   ]
  }
 ],
 "metadata": {
  "kernelspec": {
   "display_name": "Python 3",
   "language": "python",
   "name": "python3"
  },
  "language_info": {
   "codemirror_mode": {
    "name": "ipython",
    "version": 3
   },
   "file_extension": ".py",
   "mimetype": "text/x-python",
   "name": "python",
   "nbconvert_exporter": "python",
   "pygments_lexer": "ipython3",
   "version": "3.8.1"
  }
 },
 "nbformat": 4,
 "nbformat_minor": 4
}
